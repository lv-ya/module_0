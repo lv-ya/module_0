{
 "cells": [
  {
   "cell_type": "code",
   "execution_count": 2,
   "metadata": {},
   "outputs": [
    {
     "name": "stdout",
     "output_type": "stream",
     "text": [
      "Ваш алгоритм угадывает число 98 в среднем за 5 попыток\n"
     ]
    }
   ],
   "source": [
    "# Игра: угадать число, заганное Компьютером за минимальное число повторений\n",
    "import numpy as np\n",
    "count = 0 #счетчик попыток\n",
    "\n",
    "number = np.random.randint(1,101) # загадано число от 0 до 100\n",
    "\n",
    "predictmax = 100\n",
    "predictmin = 1\n",
    "predict = (predictmax-predictmin)//2 # принято решение использовать метод половинного деления\n",
    "\n",
    "while number != predict:\n",
    "    count +=1\n",
    "    if number > predict:\n",
    "        predictmin = predict # Меняется НИЖНЯЯ граница возможного значения\n",
    "    elif number < predict:\n",
    "        predictmax = predict #Меняется ВЕРХНЯЯ граница возможного значения\n",
    "    predict = predictmin + (predictmax-predictmin)//2\n",
    "    # \n",
    "print(f\"Ваш алгоритм угадывает число {number} в среднем за {count} попыток\")"
   ]
  },
  {
   "cell_type": "code",
   "execution_count": null,
   "metadata": {},
   "outputs": [],
   "source": []
  }
 ],
 "metadata": {
  "kernelspec": {
   "display_name": "Python 3",
   "language": "python",
   "name": "python3"
  },
  "language_info": {
   "codemirror_mode": {
    "name": "ipython",
    "version": 3
   },
   "file_extension": ".py",
   "mimetype": "text/x-python",
   "name": "python",
   "nbconvert_exporter": "python",
   "pygments_lexer": "ipython3",
   "version": "3.8.3"
  }
 },
 "nbformat": 4,
 "nbformat_minor": 4
}
